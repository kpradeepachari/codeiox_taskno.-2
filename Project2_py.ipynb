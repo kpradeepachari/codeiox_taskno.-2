{
  "nbformat": 4,
  "nbformat_minor": 0,
  "metadata": {
    "colab": {
      "provenance": []
    },
    "kernelspec": {
      "name": "python3",
      "display_name": "Python 3"
    },
    "language_info": {
      "name": "python"
    }
  },
  "cells": [
    {
      "cell_type": "code",
      "source": [
        "import pandas as pd\n",
        "import numpy as np\n",
        "from sklearn.model_selection import train_test_split\n",
        "from sklearn.preprocessing import StandardScaler\n",
        "from sklearn.ensemble import RandomForestRegressor\n",
        "from sklearn.metrics import mean_squared_error, r2_score\n",
        "\n",
        "# Load the dataset\n",
        "data = pd.read_csv('/content/Health dataset.csv')\n",
        "\n",
        "# Function to convert percentage strings to floats\n",
        "def convert_percentage_to_float(percentage_string):\n",
        "    if isinstance(percentage_string, str):\n",
        "        return float(percentage_string.strip('%')) / 100\n",
        "    return percentage_string\n",
        "\n",
        "# Apply the conversion function to all columns in the features dataframe\n",
        "features = data[['Liquidity Ratio', 'Profitability Ratio', 'Solvency Ratio', 'Efficiency Ratio',\n",
        "                 'Market Growth', 'GDP Growth', 'Competitor Profitability']].applymap(convert_percentage_to_float)\n",
        "\n",
        "# Define the target\n",
        "target = data['Financial Health Score']\n",
        "\n",
        "# Split the dataset into training and testing sets\n",
        "X_train, X_test, y_train, y_test = train_test_split(features, target, test_size=0.2, random_state=42)\n",
        "\n",
        "# Scale the features\n",
        "scaler = StandardScaler()\n",
        "X_train = scaler.fit_transform(X_train)\n",
        "X_test = scaler.transform(X_test)\n",
        "\n",
        "# Train the model\n",
        "model = RandomForestRegressor(n_estimators=100, random_state=42)\n",
        "model.fit(X_train, y_train)\n",
        "\n",
        "# Make predictions\n",
        "y_pred = model.predict(X_test)\n",
        "\n",
        "# Evaluate the model\n",
        "mse = mean_squared_error(y_test, y_pred)\n",
        "r2 = r2_score(y_test, y_pred)\n",
        "\n",
        "print(f'Mean Squared Error: {mse}')\n",
        "print(f'R2 Score: {r2}')\n",
        "\n",
        "# Feature importance\n",
        "importances = model.feature_importances_\n",
        "feature_names = features.columns\n",
        "importance_df = pd.DataFrame({'Feature': feature_names, 'Importance': importances})\n",
        "importance_df = importance_df.sort_values(by='Importance', ascending=False)\n",
        "print(importance_df)\n"
      ],
      "metadata": {
        "colab": {
          "base_uri": "https://localhost:8080/"
        },
        "id": "AebWMNB_X3wH",
        "outputId": "4054be2b-67f2-43be-d1df-86adb430558c"
      },
      "execution_count": 4,
      "outputs": [
        {
          "output_type": "stream",
          "name": "stderr",
          "text": [
            "<ipython-input-4-dfaf58dd186e>:19: FutureWarning: DataFrame.applymap has been deprecated. Use DataFrame.map instead.\n",
            "  'Market Growth', 'GDP Growth', 'Competitor Profitability']].applymap(convert_percentage_to_float)\n"
          ]
        },
        {
          "output_type": "stream",
          "name": "stdout",
          "text": [
            "Mean Squared Error: 0.10048900000000462\n",
            "R2 Score: nan\n",
            "                    Feature  Importance\n",
            "1       Profitability Ratio    0.211538\n",
            "2            Solvency Ratio    0.173077\n",
            "5                GDP Growth    0.153846\n",
            "6  Competitor Profitability    0.153846\n",
            "0           Liquidity Ratio    0.134615\n",
            "4             Market Growth    0.096154\n",
            "3          Efficiency Ratio    0.076923\n"
          ]
        },
        {
          "output_type": "stream",
          "name": "stderr",
          "text": [
            "/usr/local/lib/python3.10/dist-packages/sklearn/metrics/_regression.py:996: UndefinedMetricWarning: R^2 score is not well-defined with less than two samples.\n",
            "  warnings.warn(msg, UndefinedMetricWarning)\n"
          ]
        }
      ]
    }
  ]
}